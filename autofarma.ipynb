{
  "cells": [
    {
      "cell_type": "code",
      "execution_count": 1,
      "metadata": {
        "id": "CCy4_wEiy7Xd"
      },
      "outputs": [],
      "source": [
        "import pandas as pd\n",
        "import json\n",
        "import time\n",
        "import os"
      ]
    },
    {
      "cell_type": "code",
      "execution_count": null,
      "metadata": {},
      "outputs": [],
      "source": [
        "# Criar diretórios necessários\n",
        "os.makedirs('medicamentos', exist_ok=True)\n",
        "os.makedirs('cnpjs', exist_ok=True)\n",
        "os.makedirs('ggrem', exist_ok=True)"
      ]
    },
    {
      "cell_type": "code",
      "execution_count": 60,
      "metadata": {},
      "outputs": [],
      "source": [
        "df = pd.read_csv('cnpjs.csv', dtype=str)"
      ]
    },
    {
      "cell_type": "markdown",
      "metadata": {
        "id": "ypM44WJyVrEj"
      },
      "source": [
        "## Preprocessing"
      ]
    },
    {
      "cell_type": "code",
      "execution_count": null,
      "metadata": {
        "colab": {
          "base_uri": "https://localhost:8080/"
        },
        "id": "QKMWBYJmhCo5",
        "outputId": "9b00e0ca-3ab6-4860-aaae-b42a3ff1b254"
      },
      "outputs": [],
      "source": [
        "!pip install grequests\n",
        "import grequests\n",
        "import sys\n",
        "del sys.modules[\"gevent.monkey\"]\n",
        "import grequests\n",
        "import requests"
      ]
    },
    {
      "cell_type": "code",
      "execution_count": 4,
      "metadata": {
        "id": "kbMB2ZI5gunv"
      },
      "outputs": [],
      "source": [
        "def error_handler(request, exception):\n",
        "  print(\"Exception:\", exception)\n",
        "  \n",
        "def renew_cookies(old_cookies):\n",
        "    main = requests.get(\"https://consultas.anvisa.gov.br/#/medicamentos/\")\n",
        "    with open(\"main.html\", 'w') as f:\n",
        "        f.write(main.text)\n",
        "    new_cookies = dict(main.headers)[\"Set-Cookie\"].split(\";\")[:3]\n",
        "    if \"FGTServer\" in dict(main.headers)[\"Set-Cookie\"]:\n",
        "        new_cookies[1] = new_cookies[2].split(\", \")[1]\n",
        "        cookies = \";\".join(new_cookies[:2])\n",
        "    else:\n",
        "        cookies = [old_cookies.split(\";\")[0]]\n",
        "        cookies.append(new_cookies[0])\n",
        "        cookies = \";\".join(cookies)\n",
        "\n",
        "    return cookies\n",
        "\n",
        "# Reset stored cookies\n",
        "# https://consultas.anvisa.gov.br/#/medicamentos/\n",
        "cookies = \"\""
      ]
    },
    {
      "cell_type": "code",
      "execution_count": 66,
      "metadata": {
        "colab": {
          "base_uri": "https://localhost:8080/"
        },
        "id": "3JfpXb3w0op-",
        "outputId": "1f8edcf1-4014-44c2-a412-09a542561404"
      },
      "outputs": [
        {
          "name": "stdout",
          "output_type": "stream",
          "text": [
            "Loading 428/427"
          ]
        }
      ],
      "source": [
        "step = 1\n",
        "total = len(df)\n",
        "idx = 0\n",
        "for curr in range(idx + step, total + 1, step):\n",
        "\ttry:\n",
        "\t\tprint(f\"\\rLoading {curr}/{total}\", end='')\n",
        "\t\t# Renew header\n",
        "\t\tcookies = renew_cookies(cookies)\n",
        "\t\theader = {\n",
        "              \"Host\": \"consultas.anvisa.gov.br\",\n",
        "              \"Referer\": \"https://consultas.anvisa.gov.br/\",\n",
        "              \"Authorization\": \"Guest\",\n",
        "              \"Cookie\": cookies,\n",
        "              \"Connection\": \"keep-alive\",\n",
        "              \"User-Agent\": \"Mozilla/5.0 (X11; Linux x86_64) AppleWebKit/537.36 (KHTML, like Gecko) Chrome/124.0.0.0 Safari/537.36\"\n",
        "              }\n",
        "\t\tbasic_requests = [grequests.get(f\"https://consultas.anvisa.gov.br/api/consulta/medicamento/produtos/?count=1000&filter[cnpj]={row['CNPJ']}&page=1\",\n",
        "                    headers=header) for _, row in df[idx:curr].iterrows()]\n",
        "    \n",
        "\t\tresponses = grequests.map(basic_requests, exception_handler=error_handler)\n",
        "\n",
        "\t\tadvanced_requests = []\n",
        "\t\ti = 0\n",
        "\t\tnames_cnpj = []\n",
        "\t\tfor response in responses:\n",
        "\t\t\twith open(f\"cnpjs/{df['CNPJ'][idx + i]}.json\", 'w') as f:\n",
        "\t\t\t\tf.write(response.text)\n",
        "\t\t\ti+=1\n",
        "\t\ttime.sleep(2)\n",
        "\texcept Exception as e:\n",
        "\t\tprint(\"Outside error\", e)\n",
        "\tfinally:\n",
        "\t\tidx += step\n"
      ]
    },
    {
      "cell_type": "code",
      "execution_count": 68,
      "metadata": {},
      "outputs": [],
      "source": [
        "data = {\n",
        "\t'codigo_anvisa': [],\n",
        "\t'registro': [],\n",
        "\t'nome': [],\n",
        "\t'cnpj': [],\n",
        "\t'razao_social': []\n",
        "}\n",
        "for cnpjfile in os.listdir('cnpjs'):\n",
        "\twith open(f'cnpjs/{cnpjfile}', 'r') as f:\n",
        "\t\tresults = json.load(f)\n",
        "\t\tfor result in results['content']:\n",
        "\t\t\tdata['codigo_anvisa'].append(result['produto']['codigo'])\n",
        "\t\t\tdata['registro'].append(result['produto']['numeroRegistro'])\n",
        "\t\t\tdata['nome'].append(result['produto']['nome'])\n",
        "\t\t\tdata['cnpj'].append(result['empresa']['cnpj'])\n",
        "\t\t\tdata['razao_social'].append(result['empresa']['razaoSocial'])\n",
        "df = pd.DataFrame(data)\n",
        "df.to_csv('medicamentos_auto.csv', index=False)"
      ]
    },
    {
      "cell_type": "code",
      "execution_count": 35,
      "metadata": {},
      "outputs": [
        {
          "name": "stdout",
          "output_type": "stream",
          "text": [
            "Retry 103700523\n",
            "Loading 6959/27354Retry 118610226\n",
            "Loading 13559/27354Retry 100490101\n",
            "Loading 18484/27354Retry 109740177\n",
            "Loading 26865/27354"
          ]
        }
      ],
      "source": [
        "import random\n",
        "df = pd.read_csv('medicamentos_auto.csv')\n",
        "for n, row in df.iterrows():\n",
        "\tif os.path.exists(f\"medicamentos/{row['registro']}.json\"):\n",
        "\t\twith open(f\"medicamentos/{row['registro']}.json\", 'r') as f:\n",
        "\t\t\ttry:\n",
        "\t\t\t\tcontent = json.load(f)\n",
        "\t\t\t\tif \"codigoProduto\" in content.keys():\n",
        "\t\t\t\t\tcontinue\n",
        "\t\t\t\telse:\n",
        "\t\t\t\t\tprint()\n",
        "\t\t\t\t\tprint(f\"\\nRetry {row['registro']}\")\n",
        "\t\t\texcept Exception as e:\n",
        "\t\t\t\tprint()\n",
        "\t\t\t\tprint(f\"Error {row['registro']}\")\n",
        "\t\t\t\t\n",
        "\tprint(f\"\\rLoading {n + 1}/{len(df)}\", end='')\n",
        "\tcodigo = row['codigo_anvisa']\n",
        "\tcookies = renew_cookies(cookies) \n",
        "\tadvanced_requests = []\n",
        "\theader = {\n",
        "              \"Host\": \"consultas.anvisa.gov.br\",\n",
        "              \"Referer\": \"https://consultas.anvisa.gov.br/\",\n",
        "              \"Authorization\": \"Guest\",\n",
        "              \"Cookie\": cookies,\n",
        "              \"Connection\": \"keep-alive\",\n",
        "              \"User-Agent\": \"Mozilla/5.0 (X11; Linux x86_64) AppleWebKit/537.36 (KHTML, like Gecko) Chrome/124.0.0.0 Safari/537.36\"\n",
        "              }\n",
        "\tadvanced_requests.append(grequests.get(f\"https://consultas.anvisa.gov.br/api/consulta/medicamento/produtos/codigo/{codigo}\",\n",
        "\t\t\t\t\t\t\t\t\theaders=header))\n",
        "\tresponses = grequests.map(advanced_requests, exception_handler=error_handler)\n",
        "\tfor response in responses:\n",
        "\t\twith open(f\"medicamentos/{row['registro']}.json\", 'w') as f:\n",
        "\t\t\tf.write(response.text)\n",
        "\ttime.sleep(random.randint(2, 4))"
      ]
    },
    {
      "cell_type": "code",
      "execution_count": 2,
      "metadata": {},
      "outputs": [
        {
          "name": "stdout",
          "output_type": "stream",
          "text": [
            "Error 103700523.json\n",
            "Error 100490101.json\n",
            "Error 118610226.json\n",
            "Error 109740177.json\n"
          ]
        }
      ],
      "source": [
        "# principio_ativo,nome,cnpj,nome_cnpj,categoria,data,vencimento,registro,situacao,forma,apresentacao\n",
        "df_dados = {\n",
        "\t\"registro\": [],\n",
        "\t\"nome\": [],\n",
        "\t\"cnpj\": [],\n",
        "\t\"razao_social\": [],\n",
        "\t\"categoria\": [],\n",
        "    \"principio_ativo\": [],\n",
        "\t\"situacao\": [],\n",
        "\t\"data\": [],\n",
        "\t\"vencimento\": [],\n",
        "\t\"forma\": [],\n",
        "    \"apresentacao\": []\n",
        "}\n",
        "idx = 1\n",
        "for filename in os.listdir(\"medicamentos\"):\n",
        "\tprint(f\"\\rLoading {idx}/{len(os.listdir('medicamentos'))}\", end='')\n",
        "\twith open(f\"medicamentos/{filename}\", 'r') as f:\n",
        "\t\ttry:\n",
        "\t\t\tdados = json.load(f)\n",
        "\t\t\tnome = dados['nomeComercial']\n",
        "\t\t\tcnpj = dados['empresa']['cnpj']\n",
        "\t\t\trazao_social = dados['empresa']['razaoSocial']\n",
        "\t\t\tcategoria = dados['categoriaRegulatoria']\n",
        "\t\t\tprincipio_ativo = dados['principioAtivo']\n",
        "\n",
        "\t\t\tvencimento = \"N/A\"\n",
        "\t\t\tif dados['dataVencimentoRegistro'] is not None:\n",
        "\t\t\t\tvencimento = dados['dataVencimentoRegistro'].split(\"T\")[0]\n",
        "\t\t\n",
        "\t\t\tfor apresentacao in dados['apresentacoes']:\n",
        "\t\t\t\tregistro = apresentacao['registro']\n",
        "\t\t\t\tif apresentacao['ativa']:\n",
        "\t\t\t\t\tsituacao = \"Válido\"\n",
        "\t\t\t\telif apresentacao['inativa']:\n",
        "\t\t\t\t\tsituacao = \"Caduco/Cancelado\"\n",
        "\t\t\t\tif apresentacao['emAnalise']:\n",
        "\t\t\t\t\tsituacao = \"Em análise\"\n",
        "\t\t\t\t\n",
        "\t\t\t\tdata = \"N/A\"\n",
        "\t\t\t\tif apresentacao['dataPublicacao'] is not None:\n",
        "\t\t\t\t\tdata = apresentacao['dataPublicacao'].split(\"T\")[0]\n",
        "\t\t\t\t\n",
        "\t\t\t\tforma = \",\".join(apresentacao['formasFarmaceuticas'])\n",
        "\t\t\t\t\n",
        "\t\t\t\tdf_dados['registro'].append(registro)\n",
        "\t\t\t\tdf_dados['nome'].append(nome)\n",
        "\t\t\t\tdf_dados['cnpj'].append(cnpj)\n",
        "\t\t\t\tdf_dados['razao_social'].append(razao_social)\n",
        "\t\t\t\tdf_dados['categoria'].append(categoria)\n",
        "\t\t\t\tdf_dados['principio_ativo'].append(principio_ativo)\n",
        "\t\t\t\tdf_dados['situacao'].append(situacao)\n",
        "\t\t\t\tdf_dados['data'].append(data)\n",
        "\t\t\t\tdf_dados['vencimento'].append(vencimento)\n",
        "\t\t\t\tdf_dados['forma'].append(forma)\n",
        "\t\t\t\tdf_dados['apresentacao'].append(apresentacao['apresentacao'])\n",
        "\t\texcept Exception as e:\n",
        "\t\t\tprint(f\"Error {filename}\")"
      ]
    },
    {
      "cell_type": "code",
      "execution_count": 3,
      "metadata": {},
      "outputs": [],
      "source": [
        "df = pd.DataFrame(df_dados)\n",
        "df.fillna('N/A').to_csv(\"medicamentos_completo.csv\")"
      ]
    },
    {
      "cell_type": "markdown",
      "metadata": {},
      "source": [
        "Adicionar informação do GGREM"
      ]
    },
    {
      "cell_type": "code",
      "execution_count": 4,
      "metadata": {},
      "outputs": [],
      "source": [
        "years = []\n",
        "years_pre = []\n",
        "for year in os.listdir('ggrem'):\n",
        "    if year in ['cmed_2013.csv', 'cmed_2014.csv', 'cmed_2015.csv']:\n",
        "        years_pre.append(pd.read_csv(f'ggrem/{year}', dtype=object))\n",
        "    else:\n",
        "        years.append(pd.read_csv(f'ggrem/{year}', dtype=object))\n",
        "        "
      ]
    },
    {
      "cell_type": "code",
      "execution_count": 5,
      "metadata": {},
      "outputs": [
        {
          "name": "stdout",
          "output_type": "stream",
          "text": [
            " Row 184451 Locating registro 1514300330127"
          ]
        }
      ],
      "source": [
        "ggrem = []\n",
        "anos = {\n",
        "    '2013': [],\n",
        "    '2014': [],\n",
        "    '2015': [],\n",
        "    '2016': [],\n",
        "    '2017': [],\n",
        "    '2018': [],\n",
        "    '2019': [],\n",
        "    '2020': [],\n",
        "    '2021': [],\n",
        "    '2022': [],\n",
        "    '2023': []\n",
        "}\n",
        "\n",
        "for n, row in df.iterrows():\n",
        "    registro = row['registro']\n",
        "    found = False\n",
        "    print(f\"\\r Row {n} Locating registro\", registro, end='')\n",
        "    matching_ggrem = ''\n",
        "    for year in years:\n",
        "        if registro in year['REGISTRO'].values:\n",
        "            if not found:\n",
        "                matching_ggrem = year[year['REGISTRO'] == registro].iloc[0]['CÓDIGO GGREM']\n",
        "                ggrem.append(matching_ggrem)\n",
        "                found = True\n",
        "            anos[year['ANO'].iloc[0]].append(1)\n",
        "        else:\n",
        "            anos[year['ANO'].iloc[0]].append(0)\n",
        "    if found:\n",
        "        for year in years_pre:\n",
        "            if matching_ggrem in year['CÓDIGO GGREM'].values:\n",
        "                anos[year['ANO'].iloc[0]].append(1)\n",
        "            else:\n",
        "                anos[year['ANO'].iloc[0]].append(0)\n",
        "    else:\n",
        "        ggrem.append('N/A')\n",
        "        anos['2013'].append(0)\n",
        "        anos['2014'].append(0)\n",
        "        anos['2015'].append(0)"
      ]
    },
    {
      "cell_type": "code",
      "execution_count": 6,
      "metadata": {},
      "outputs": [],
      "source": [
        "df['ggrem'] = ggrem\n",
        "df['2013'] = anos['2013']\n",
        "df['2014'] = anos['2014']\n",
        "df['2015'] = anos['2015']\n",
        "df['2016'] = anos['2016']\n",
        "df['2017'] = anos['2017']\n",
        "df['2018'] = anos['2018']\n",
        "df['2019'] = anos['2019']\n",
        "df['2020'] = anos['2020']\n",
        "df['2021'] = anos['2021']\n",
        "df['2022'] = anos['2022']\n",
        "df['2023'] = anos['2023']\n",
        "df.fillna('N/A', inplace=True)\n",
        "df.to_csv('tabela_completa_ggrem.csv', index=False)"
      ]
    },
    {
      "cell_type": "markdown",
      "metadata": {},
      "source": [
        "Avaliar quantidade de medicamentos com GGREM"
      ]
    },
    {
      "cell_type": "code",
      "execution_count": null,
      "metadata": {},
      "outputs": [],
      "source": [
        "df = pd.read_csv('tabela_completa_ggrem.csv', dtype=object)\n",
        "df.fillna('N/A', inplace=True)\n",
        "print(\"Not found GGREM: \", len(df[df['ggrem'] == 'N/A']))\n",
        "print(\"Found GGREM: \", len(df[df['ggrem'] != 'N/A']))\n",
        "print(f\"Total {len(df[df['ggrem'] != 'N/A'])/len(df)*100:.2f}% found.\")\n",
        "\n",
        "df[df['ggrem'] == 'N/A'].to_csv('ggrem_not_found.csv', index=False)\n",
        "df[df['ggrem'] != 'N/A'].to_csv('ggrem_found.csv', index=False)"
      ]
    }
  ],
  "metadata": {
    "colab": {
      "provenance": []
    },
    "kernelspec": {
      "display_name": "Python 3",
      "name": "python3"
    },
    "language_info": {
      "codemirror_mode": {
        "name": "ipython",
        "version": 3
      },
      "file_extension": ".py",
      "mimetype": "text/x-python",
      "name": "python",
      "nbconvert_exporter": "python",
      "pygments_lexer": "ipython3",
      "version": "3.11.0"
    }
  },
  "nbformat": 4,
  "nbformat_minor": 0
}
